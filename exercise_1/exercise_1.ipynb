{
 "cells": [
  {
   "cell_type": "markdown",
   "id": "50a483ea",
   "metadata": {},
   "source": [
    "Question 1"
   ]
  },
  {
   "cell_type": "markdown",
   "id": "105e16fe",
   "metadata": {},
   "source": [
    "Input Space X: temperature in celsius  \n",
    "$\n",
    "X \\in [0, 40]\\\\\n",
    "X \\sim U(0,40)\n",
    "$  \n",
    "  \n",
    "Output Space Y: Number of ice creams sold in an hour  \n",
    "$\n",
    "Y \\in \\N\\\\\n",
    "Y | X = x \\sim Poisson(\\lambda = 0.5x + 5)\n",
    "$  \n",
    "  \n",
    "loss function: squared loss"
   ]
  },
  {
   "cell_type": "markdown",
   "id": "b0c6324f",
   "metadata": {},
   "source": [
    "Question 2"
   ]
  },
  {
   "cell_type": "code",
   "execution_count": 1,
   "id": "c09f420e",
   "metadata": {},
   "outputs": [],
   "source": [
    "import numpy as np"
   ]
  },
  {
   "cell_type": "code",
   "execution_count": 2,
   "id": "b2019784",
   "metadata": {},
   "outputs": [
    {
     "name": "stdout",
     "output_type": "stream",
     "text": [
      "Empirical risk of Bayes predictor f*: 15.34\n",
      "Empirical risk of suboptimal predictor f~: 74.45\n"
     ]
    }
   ],
   "source": [
    "rng = np.random.default_rng()\n",
    "\n",
    "n = 10000\n",
    "X = rng.uniform(0, 40, size=n)\n",
    "lambda_X = 0.5 * X + 5\n",
    "Y = rng.poisson(lam=lambda_X)\n",
    "\n",
    "def sq_loss(y_true, y_pred):\n",
    "    return (y_true - y_pred) ** 2\n",
    "\n",
    "f_star = 0.5 * X + 5 # bayes\n",
    "risk_f_star = np.mean(sq_loss(Y, f_star))\n",
    "\n",
    "f_tilde = np.full_like(X, 20) # for simplicity we just constantly predict 20\n",
    "risk_f_tilde = np.mean(sq_loss(Y, f_tilde))\n",
    "\n",
    "print(f\"Empirical risk of Bayes predictor f*: {risk_f_star:.2f}\")\n",
    "print(f\"Empirical risk of suboptimal predictor f~: {risk_f_tilde:.2f}\")"
   ]
  },
  {
   "cell_type": "code",
   "execution_count": null,
   "id": "a652bb9d",
   "metadata": {},
   "outputs": [],
   "source": []
  }
 ],
 "metadata": {
  "kernelspec": {
   "display_name": "base",
   "language": "python",
   "name": "python3"
  },
  "language_info": {
   "codemirror_mode": {
    "name": "ipython",
    "version": 3
   },
   "file_extension": ".py",
   "mimetype": "text/x-python",
   "name": "python",
   "nbconvert_exporter": "python",
   "pygments_lexer": "ipython3",
   "version": "3.13.2"
  }
 },
 "nbformat": 4,
 "nbformat_minor": 5
}
