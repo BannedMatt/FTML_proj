{
 "cells": [
  {
   "cell_type": "code",
   "execution_count": 1,
   "id": "fdc7c0ef",
   "metadata": {},
   "outputs": [],
   "source": [
    "import numpy as np"
   ]
  },
  {
   "cell_type": "markdown",
   "id": "f9666197",
   "metadata": {},
   "source": [
    "We will be modeling behavior at a traffic light. X ∈ {0 (red), 1 (yellow), 2 (green)} is the variable representing the color of a traffic light when the car arrives. Y ∈ {0, 1} is the variable representing whether each car stops (0) or goes (1).\n",
    "- X is uniformly distributed\n",
    "- if X = 0 Y follows a Bernoulli law of parameter 0.95. If X = 1, Y follows a Bernoulli law of parameter 0.5. If X = 2 Y follows a Bernoulli law of parameter 0.05\n",
    "- we use the 0-1 loss"
   ]
  },
  {
   "cell_type": "code",
   "execution_count": 32,
   "id": "50f5533d",
   "metadata": {},
   "outputs": [],
   "source": [
    "def bayes_predictor(x):\n",
    "        if x == 0:\n",
    "            return 0\n",
    "        elif x == 1:\n",
    "            return 1\n",
    "        else:\n",
    "            return 1"
   ]
  },
  {
   "cell_type": "code",
   "execution_count": 56,
   "id": "ec846d3f",
   "metadata": {},
   "outputs": [
    {
     "name": "stdout",
     "output_type": "stream",
     "text": [
      "X = \t\t\t[0 0 2 ... 0 2 2]\n",
      "bernoulli_parameter = \t[0.1 0.1 0.9 ... 0.1 0.9 0.9]\n",
      "Y = \t\t\t[1 0 1 ... 0 1 1]\n",
      "y_pred_bayes = \t\t[0 0 1 ... 0 1 1]\n",
      "empirical_risk = 0.233573\n",
      "empirical risk for random estimations = 0.499871\n"
     ]
    }
   ],
   "source": [
    "rng = np.random.default_rng()\n",
    "\n",
    "n_samples = int(1e6)\n",
    "\n",
    "X = rng.integers(0,3, n_samples)\n",
    "\n",
    "bernoulli_parameter = X.astype(float).copy()\n",
    "bernoulli_parameter[X == 0] = 0.1\n",
    "bernoulli_parameter[X == 1] = 0.5\n",
    "bernoulli_parameter[X == 2] = 0.9\n",
    "\n",
    "Y = rng.binomial(1, bernoulli_parameter)\n",
    "\n",
    "y_pred_bayes = np.array([bayes_predictor(x) for x in X])\n",
    "\n",
    "empirical_risk = len(np.where(Y - y_pred_bayes)[0]) / n_samples\n",
    "\n",
    "print(f'X = \\t\\t\\t{X}')\n",
    "print(f'bernoulli_parameter = \\t{bernoulli_parameter}')\n",
    "print(f'Y = \\t\\t\\t{Y}')\n",
    "print(f'y_pred_bayes = \\t\\t{y_pred_bayes}')\n",
    "print(f'empirical_risk = {empirical_risk}')\n",
    "\n",
    "y_pred_bad = rng.integers(0, 2, n_samples).astype(float)\n",
    "empirical_risk_bad_estimator = len(np.where(Y - y_pred_bad)[0]) / n_samples\n",
    "print(f'empirical risk for random estimations = {empirical_risk_bad_estimator}')"
   ]
  },
  {
   "cell_type": "code",
   "execution_count": null,
   "id": "f86f340f",
   "metadata": {},
   "outputs": [],
   "source": []
  }
 ],
 "metadata": {
  "kernelspec": {
   "display_name": "Python 3",
   "language": "python",
   "name": "python3"
  },
  "language_info": {
   "codemirror_mode": {
    "name": "ipython",
    "version": 3
   },
   "file_extension": ".py",
   "mimetype": "text/x-python",
   "name": "python",
   "nbconvert_exporter": "python",
   "pygments_lexer": "ipython3",
   "version": "3.13.2"
  }
 },
 "nbformat": 4,
 "nbformat_minor": 5
}
