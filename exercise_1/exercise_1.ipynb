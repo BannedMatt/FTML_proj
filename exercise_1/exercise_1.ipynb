{
 "cells": [
  {
   "cell_type": "markdown",
   "id": "50a483ea",
   "metadata": {},
   "source": [
    "# Question 1"
   ]
  },
  {
   "cell_type": "markdown",
   "id": "105e16fe",
   "metadata": {},
   "source": [
    "Input Space X: temperature in celsius  \n",
    "$\n",
    "X \\in [0, 40]\\\\\n",
    "X \\sim U(0,40)\n",
    "$  \n",
    "  \n",
    "Output Space Y: Number of ice creams sold in an hour  \n",
    "$\n",
    "Y \\in \\N\\\\\n",
    "Y | X = x \\sim Poisson(\\lambda = 0.5x + 5)\n",
    "$  \n",
    "  \n",
    "loss function: squared loss"
   ]
  },
  {
   "cell_type": "markdown",
   "id": "3404b2e5",
   "metadata": {},
   "source": [
    "**Bayes Estimator** $f^{*}(x)$:  \n",
    "for squared loss, the bayes predictor is the conditional expectation  \n",
    "$\n",
    "f^{*}(x) = E[Y|X = x] = 0.5x + 5\n",
    "$"
   ]
  },
  {
   "cell_type": "markdown",
   "id": "343dc7dc",
   "metadata": {},
   "source": [
    "**Bayes Risk**:  \n",
    "Since $Y = X = x \\sim Poisson(0.5x + 5)$, and for a Poisson distribution:  \n",
    "$Var(Y|X=x) = E[Y|X = x] = 0.5x + 5$  \n",
    "  \n",
    "The bayes risk is:  \n",
    "$R(f^{*}) = E_{X}[Var(Y|X=x)] = E[0.5x + 5]$  \n",
    "  \n",
    "Given that $X \\sim U(0,40)$:  \n",
    "$E[X] = 20 \\Rightarrow R(f^{*}) = 0.5 \\times 20 + 5 = 20$"
   ]
  },
  {
   "cell_type": "markdown",
   "id": "b0c6324f",
   "metadata": {},
   "source": [
    "# Question 2"
   ]
  },
  {
   "cell_type": "code",
   "execution_count": null,
   "id": "65592cc9",
   "metadata": {
    "vscode": {
     "languageId": "plaintext"
    }
   },
   "outputs": [],
   "source": []
  }
 ],
 "metadata": {
  "kernelspec": {
   "display_name": "Python 3",
   "language": "python",
   "name": "python3"
  },
  "language_info": {
   "codemirror_mode": {
    "name": "ipython",
    "version": 3
   },
   "file_extension": ".py",
   "mimetype": "text/x-python",
   "name": "python",
   "nbconvert_exporter": "python",
   "pygments_lexer": "ipython3",
   "version": "3.13.2"
  }
 },
 "nbformat": 4,
 "nbformat_minor": 5
}
