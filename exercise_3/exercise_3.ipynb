{
 "cells": [
  {
   "cell_type": "markdown",
   "id": "3e4f8c18",
   "metadata": {},
   "source": [
    "# Question 1"
   ]
  },
  {
   "cell_type": "markdown",
   "id": "01c4cc7a",
   "metadata": {},
   "source": [
    "Proposition 1:  \n",
    "$\n",
    "E[R_{X}(\\hat{\\theta})] = \\frac{n - d}{n}\\sigma^{2}\n",
    "$  \n",
    "Bayes Risk:  \n",
    "$\n",
    "R(\\theta ^{*}) = E[\\frac{||y - X\\theta^{*}||^{2}}{n}] = \\frac{1}{n}E[||\\epsilon||^{2}] = \\sigma^{2}\n",
    "$\n",
    "\n",
    "we can see that $ \\frac{n - d}{n}\\sigma^{2} \\lt \\sigma^{2}$ so bayes risk is bigger"
   ]
  },
  {
   "cell_type": "markdown",
   "id": "2661e987",
   "metadata": {},
   "source": [
    "# Question 2"
   ]
  },
  {
   "cell_type": "markdown",
   "id": "91c0cf9e",
   "metadata": {},
   "source": [
    "The ordinary least squares estimator $\\hat{\\theta} = (X^{T}X)^{-1}X^{T}y$  \n",
    "we assume that $ y = X\\theta^{*} + \\epsilon$  \n",
    "\n",
    "Therefore:  \n",
    "$\n",
    "\\hat{\\theta} = (X^{T}X)^{-1}X^{T}(X\\theta^{*} + \\epsilon) = \\theta^{*} + (X^{T}X)^{-1}X^{T}\\epsilon \\\\\n",
    "X\\hat{\\theta} = X\\theta^{*} + X(X^{T}X)^{-1}X^{T}\\epsilon = X\\theta^{*} + H\\epsilon\\\\\n",
    "y - X\\hat{\\theta} = X\\theta^{*} + \\epsilon - (X\\theta^{*} + H\\epsilon) = \\epsilon - H\\epsilon = (I_{n} - H)\\epsilon\n",
    "$  \n",
    "\n",
    "So:  \n",
    "$ R_{n}(\\hat{\\theta}) = \\frac{1}{n}||(I_{n} - H)\\epsilon||^{2}$\n",
    "and\n",
    "$ E[R_{n}(\\hat{\\theta})] = E[\\frac{1}{n}||(I_{n} - H)\\epsilon||^{2}]$"
   ]
  },
  {
   "cell_type": "markdown",
   "id": "62869525",
   "metadata": {},
   "source": [
    "# Question 3"
   ]
  },
  {
   "cell_type": "markdown",
   "id": "e04f8c16",
   "metadata": {},
   "source": [
    "we must prove that the sum of the squares of all the entries in a matrix A is equal to the trace of the matrix $A^{T}A$  \n",
    "\n",
    "$(A^{T}A)_{kk} = \\sum_{i}A^{2}_{ik}$ where k indicates the column in A.  \n",
    "in $(A^{T}A)$ we store this value in the cell of index [k,k] which is on the diagonal  \n",
    "So:\n",
    "$tr(A^{T}A) = \\sum_{k=1}^{n}(A^{T}A)_{kk} = \\sum_{k=1}^{n}\\sum_{i=1}^{n}A^{2}_{ik}$  \n",
    "which is just:  \n",
    "$\\sum_{j=1}^{n}\\sum_{i=1}^{n}A^{2}_{ij}$"
   ]
  },
  {
   "cell_type": "markdown",
   "id": "13ee46ac",
   "metadata": {},
   "source": [
    "# Question 4"
   ]
  },
  {
   "cell_type": "markdown",
   "id": "699e7922",
   "metadata": {},
   "source": [
    "If $\\epsilon \\sim N(0,\\sigma^{2}I_{n})$ and M is any matrix, then:  \n",
    "$E[\\epsilon^{T}M\\epsilon] = \\sigma^{2}tr(M)$  \n",
    "Also:\n",
    "$||A\\epsilon||^{2} = (A\\epsilon)^{T}(A\\epsilon)$\n",
    "\n",
    "Let us assume $\\epsilon \\sim N(0,\\sigma^{2}I_{n})$m then:  \n",
    "$E[\\epsilon^{T}A^{T}A\\epsilon] = \\sigma^{2}tr(A^{T}A)$  \n",
    "futhermore if we divide by n we obtain:  \n",
    "$E[\\frac{1}{2}||A\\epsilon||^{2}] = \\frac{\\sigma^{2}}{n}tr(A^{T}A)$"
   ]
  },
  {
   "cell_type": "markdown",
   "id": "076544a6",
   "metadata": {},
   "source": [
    "# Question 5"
   ]
  },
  {
   "cell_type": "markdown",
   "id": "8b2346f9",
   "metadata": {},
   "source": [
    "$A = I_{n} - X(X^{T}X)^{-1}X^{T}$  \n",
    "we reuse the same notation H used earlier to denote $X(X^{T}X)^{-1}X^{T}$  \n",
    "We can see that $H = H^{T} = H^{2}$\n",
    "\n",
    "Then:  \n",
    "$A^{T}A = (I_{n} - H)^{T}(I_{n} - H) = (I_{n} - H)(I_{n} - H) = I - 2H + H^{2} = I - H = A$\n",
    "\n",
    "So:\n",
    "$A^{T}A = A$"
   ]
  },
  {
   "cell_type": "markdown",
   "id": "b2fe0649",
   "metadata": {},
   "source": [
    "# Question 6"
   ]
  },
  {
   "cell_type": "markdown",
   "id": "55045a17",
   "metadata": {},
   "source": [
    "$E[R_{n}(\\hat{\\theta})] = E[\\frac{1}{n}||A\\epsilon||^{2}] = \\frac{\\sigma^{2}}{n}tr(A^{T}A) = \\frac{\\sigma^{2}}{n}tr(A)$  \n",
    "$tr(A) = tr(I - H) = n - tr(H) = n - d$  \n",
    "$\\Rightarrow E[R_{n}(\\hat{\\theta})] = \\frac{n - d}{n}\\sigma^{2}$"
   ]
  },
  {
   "cell_type": "markdown",
   "id": "b00b9b3e",
   "metadata": {},
   "source": [
    "# Question 7"
   ]
  },
  {
   "cell_type": "markdown",
   "id": "1faceef1",
   "metadata": {},
   "source": [
    "$E[\\frac{1}{n - d}||y - X\\hat{\\theta}||^{2}] = \\sigma^{2}$"
   ]
  },
  {
   "cell_type": "markdown",
   "id": "b55f7e74",
   "metadata": {},
   "source": [
    "# Question 8"
   ]
  },
  {
   "cell_type": "code",
   "execution_count": 4,
   "id": "087c4413",
   "metadata": {},
   "outputs": [
    {
     "name": "stdout",
     "output_type": "stream",
     "text": [
      "Estimated sigma squared: 4.20\n",
      "True sigma squared: 4.00\n"
     ]
    }
   ],
   "source": [
    "import numpy as np\n",
    "\n",
    "n, d = 1000, 100\n",
    "sigma_true = 2.0\n",
    "theta_star = np.random.randn(d)\n",
    "\n",
    "X = np.random.randn(n, d)\n",
    "\n",
    "epsilon = np.random.normal(0, sigma_true, size=n)\n",
    "y = X @ theta_star + epsilon\n",
    "\n",
    "theta_hat = np.linalg.inv(X.T @ X) @ X.T @ y\n",
    "y_pred = X @ theta_hat\n",
    "\n",
    "residual = y - y_pred\n",
    "sigma2_hat = np.sum(residual**2) / (n - d)\n",
    "\n",
    "print(f\"Estimated sigma squared: {sigma2_hat:.2f}\")\n",
    "print(f\"True sigma squared: {sigma_true**2:.2f}\")\n"
   ]
  }
 ],
 "metadata": {
  "kernelspec": {
   "display_name": "Python 3",
   "language": "python",
   "name": "python3"
  },
  "language_info": {
   "codemirror_mode": {
    "name": "ipython",
    "version": 3
   },
   "file_extension": ".py",
   "mimetype": "text/x-python",
   "name": "python",
   "nbconvert_exporter": "python",
   "pygments_lexer": "ipython3",
   "version": "3.13.2"
  }
 },
 "nbformat": 4,
 "nbformat_minor": 5
}
