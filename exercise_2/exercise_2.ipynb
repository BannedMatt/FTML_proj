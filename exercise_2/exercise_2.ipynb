{
 "cells": [
  {
   "cell_type": "markdown",
   "id": "a762ef9d",
   "metadata": {},
   "source": [
    "# Question 0"
   ]
  },
  {
   "cell_type": "markdown",
   "id": "8927b44a",
   "metadata": {},
   "source": [
    "We choose $f(x) = x^{3}$  \n",
    "$f'(0) = 0$ and is neither a local minimum nor a local maximum"
   ]
  },
  {
   "cell_type": "markdown",
   "id": "230d426e",
   "metadata": {},
   "source": [
    "# Question 1"
   ]
  },
  {
   "cell_type": "markdown",
   "id": "430d1c7f",
   "metadata": {},
   "source": [
    "We reuse the same setting as exercise 1.  \n",
    "$X \\sim U(0,40)$  \n",
    "$Y | X = x \\sim Poisson(\\lambda = 0.5x + 5)$\n",
    "\n",
    "Then:  \n",
    "$\n",
    "f_{sq}^{*} = E[Y|X=x] = 0.5 \\times x + 5 \\\\\n",
    "f_{abs}^{*} = median[Y|X=x]\n",
    "$"
   ]
  },
  {
   "cell_type": "code",
   "execution_count": 4,
   "id": "27195923",
   "metadata": {},
   "outputs": [
    {
     "name": "stdout",
     "output_type": "stream",
     "text": [
      "Empirical risk of f*_sq (square loss): 14.941654037340639\n",
      "Empirical risk of f*_abs (square loss): 15.007124081899747\n",
      "Empirical risk of f*_sq (absolute loss): 3.0173478934481617\n",
      "Empirical risk of f*_abs (absolute loss): 3.0037493721246493\n"
     ]
    }
   ],
   "source": [
    "import numpy as np\n",
    "import matplotlib.pyplot as plt\n",
    "from scipy.stats import poisson\n",
    "from scipy.stats import binned_statistic\n",
    "\n",
    "n = 100000\n",
    "X = np.random.uniform(0, 40, size=n)\n",
    "lambda_X = 0.5 * X + 5\n",
    "Y = np.random.poisson(lam=lambda_X)\n",
    "\n",
    "f_star_sq = lambda_X\n",
    "\n",
    "bins = np.linspace(0, 40, 100)\n",
    "f_star_abs, _, _ = binned_statistic(X, Y, statistic='median', bins=bins)\n",
    "f_star_abs_interp = np.interp(X, bins[:-1] + np.diff(bins)/2, f_star_abs)\n",
    "\n",
    "risk_sq_sq = np.mean((Y - f_star_sq) ** 2)\n",
    "risk_sq_abs = np.mean(np.abs(Y - f_star_sq))\n",
    "risk_abs_abs = np.mean(np.abs(Y - f_star_abs_interp))\n",
    "risk_abs_sq = np.mean((Y - f_star_abs_interp) ** 2)\n",
    "\n",
    "print(\"Empirical risk of f*_sq (square loss):\", risk_sq_sq)\n",
    "print(\"Empirical risk of f*_abs (square loss):\", risk_abs_sq)\n",
    "print(\"Empirical risk of f*_sq (absolute loss):\", risk_sq_abs)\n",
    "print(\"Empirical risk of f*_abs (absolute loss):\", risk_abs_abs)"
   ]
  },
  {
   "cell_type": "markdown",
   "id": "41a9e473",
   "metadata": {},
   "source": [
    "# Question 2"
   ]
  },
  {
   "cell_type": "markdown",
   "id": "ed6ef7d1",
   "metadata": {},
   "source": [
    "let $g(z) = E[|Y-z||X=x] = \\int |y-z|P_{Y|X=x}(y)dy$  \n",
    "we need to find a value for z that minimizes $E[|Y-z||X=x]$  \n",
    "a value satisfying this condition is the median of the distribution of Y|X=x  \n",
    "so $f_{abs}^{*} = median[Y|X=x]$"
   ]
  }
 ],
 "metadata": {
  "kernelspec": {
   "display_name": "Python 3",
   "language": "python",
   "name": "python3"
  },
  "language_info": {
   "codemirror_mode": {
    "name": "ipython",
    "version": 3
   },
   "file_extension": ".py",
   "mimetype": "text/x-python",
   "name": "python",
   "nbconvert_exporter": "python",
   "pygments_lexer": "ipython3",
   "version": "3.13.2"
  }
 },
 "nbformat": 4,
 "nbformat_minor": 5
}
